{
  "nbformat": 4,
  "nbformat_minor": 0,
  "metadata": {
    "colab": {
      "provenance": [],
      "authorship_tag": "ABX9TyMrW4ncEOOD7SDmKTTQKWud",
      "include_colab_link": true
    },
    "kernelspec": {
      "name": "python3",
      "display_name": "Python 3"
    },
    "language_info": {
      "name": "python"
    }
  },
  "cells": [
    {
      "cell_type": "markdown",
      "metadata": {
        "id": "view-in-github",
        "colab_type": "text"
      },
      "source": [
        "<a href=\"https://colab.research.google.com/github/chtariqiqbal406-pixel/Python_project/blob/main/File_handling.ipynb\" target=\"_parent\"><img src=\"https://colab.research.google.com/assets/colab-badge.svg\" alt=\"Open In Colab\"/></a>"
      ]
    },
    {
      "cell_type": "code",
      "source": [
        "from google.colab import drive\n",
        "drive.mount('/content/drive')"
      ],
      "metadata": {
        "id": "Y20bsz_nhS1Q"
      },
      "execution_count": null,
      "outputs": []
    },
    {
      "cell_type": "markdown",
      "source": [
        "# Write to a File\n",
        "Q1:Create a Dart program that takes user input for their name and age and writes it into a file called\n",
        "info.txt."
      ],
      "metadata": {
        "id": "kki3xTjfgoTF"
      }
    },
    {
      "cell_type": "code",
      "source": [
        "file_path = \"/content/drive/MyDrive/info.txt\"\n",
        "with open(file_path, \"w\") as file:\n",
        "  name=input(\"Enter your name:\")\n",
        "  age=input(\"Enter your age:\")\n",
        "  file.write(f\"Name: {name}\\n Age: {age}\\n\")"
      ],
      "metadata": {
        "colab": {
          "base_uri": "https://localhost:8080/"
        },
        "id": "XmzC_1obg19X",
        "outputId": "c55f3e7d-7007-4ff4-d708-9d9ad5242212"
      },
      "execution_count": null,
      "outputs": [
        {
          "name": "stdout",
          "output_type": "stream",
          "text": [
            "Enter your name:Dr_Ch. Tariq Iqbal\n",
            "Enter your age:37\n"
          ]
        }
      ]
    },
    {
      "cell_type": "markdown",
      "source": [
        "# Read from a File\n",
        "Q2:Write a Dart program that reads the content of info.txt (created in Q1) and displays it on the\n",
        "console."
      ],
      "metadata": {
        "id": "LSZbj_ZmiHlv"
      }
    },
    {
      "cell_type": "code",
      "source": [
        "with open(file_path, \"r\") as file:\n",
        "  content=file.read()\n",
        "  print(content)"
      ],
      "metadata": {
        "colab": {
          "base_uri": "https://localhost:8080/"
        },
        "id": "Y-z-XWsuiPnl",
        "outputId": "fb1484f8-f116-4b34-d7a3-be6ce0a3610b"
      },
      "execution_count": null,
      "outputs": [
        {
          "output_type": "stream",
          "name": "stdout",
          "text": [
            "Name: Dr_Ch. Tariq Iqbal\n",
            " Age: 37\n",
            "\n"
          ]
        }
      ]
    },
    {
      "cell_type": "markdown",
      "source": [
        "# Append to a File\n",
        "Q3:Create a Dart program that appends a new line &quot;This file was updated successfully!&quot; at\n",
        "the end of info.txt without deleting the previous content."
      ],
      "metadata": {
        "id": "MYtkLEFNjClW"
      }
    },
    {
      "cell_type": "code",
      "source": [
        "with open(file_path, \"a\") as file:\n",
        "  file.write(\"I am a Lecturer.\\n\")\n",
        "  print(\"The file updated successfully.\\n\")\n",
        "with open(file_path, \"r\") as file:\n",
        "   after_appnd=file.read()\n",
        "print(\"updated file:\\n\", after_appnd)"
      ],
      "metadata": {
        "colab": {
          "base_uri": "https://localhost:8080/"
        },
        "id": "MnuTPWjejJ9y",
        "outputId": "1069806e-69be-45a0-9080-6b5c8ed02744"
      },
      "execution_count": null,
      "outputs": [
        {
          "output_type": "stream",
          "name": "stdout",
          "text": [
            "The file updated successfully.\n",
            "\n",
            "updated file:\n",
            " Name: Dr_Ch. Tariq Iqbal\n",
            " Age: 37\n",
            "I am a Lecturer.\n",
            "I am a Lecturer.\n",
            "I am a Lecturer.\n",
            "I am a Lecturer.\n",
            "I am a Lecturer.\n",
            "I am a Lecturer.\n",
            "I am a Lecturer.\n",
            "I am a Lecturer.\n",
            "I am a Lecturer.\n",
            "\n"
          ]
        }
      ]
    },
    {
      "cell_type": "markdown",
      "source": [
        "# Read, Write &amp; Append Together\n",
        "Q4:Write a Dart program that:\n",
        "1. Writes &quot;Welcome to Dart File Handling&quot; to a file named data.txt.\n",
        "2. Reads and prints the content of the file.\n",
        "3. Appends &quot; - End of File&quot; at the end of the file.\n",
        "4. Reads again and shows the updated content."
      ],
      "metadata": {
        "id": "-INyjP6SnW9a"
      }
    },
    {
      "cell_type": "code",
      "source": [
        "file_data= \"/content/drive/MyDrive/data.txt\"\n",
        "with open(file_data,\"w\") as f:\n",
        "  f.write(\"welcome to the Dart file handling.\\n\" )\n",
        "with open(file_data,\"r\") as f:\n",
        "    print(f.read())\n",
        "with open(file_data,\"a\") as f:\n",
        "  f.write(\"End of File.\\n\" )\n",
        "with open(file_data,\"r\") as f:\n",
        "  updated=f.read()\n",
        "  print(\"Updated Content:\",updated)\n",
        "\n"
      ],
      "metadata": {
        "colab": {
          "base_uri": "https://localhost:8080/"
        },
        "id": "gK4FQiN_nwzP",
        "outputId": "bab5a755-43fa-4b1f-d1ab-c4fecebbd73c"
      },
      "execution_count": null,
      "outputs": [
        {
          "output_type": "stream",
          "name": "stdout",
          "text": [
            "welcome to the Dart file handling.\n",
            "\n",
            "Updated Content: welcome to the Dart file handling.\n",
            "End of File.\n",
            "\n"
          ]
        }
      ]
    },
    {
      "cell_type": "markdown",
      "source": [
        "# Copy File Content\n",
        "Q5:Write a Dart program that reads all the content from info.txt and writes it into a new file\n",
        "named copy_info.txt."
      ],
      "metadata": {
        "id": "neWgv0lnzlvF"
      }
    },
    {
      "cell_type": "code",
      "source": [
        "# Define the paths for the source and destination files\n",
        "old_file= \"/content/drive/MyDrive/info.txt\"\n",
        "new_file = \"/content/drive/MyDrive/copy_info.txt\"\n",
        "\n",
        "# Read the content from the source file\n",
        "with open(old_file, \"r\") as source_file:\n",
        "  file_content = source_file.read()\n",
        "\n",
        "# Write the content to the destination file\n",
        "with open(new_file, \"w\") as destination_file:\n",
        "  destination_file.write(file_content)\n",
        "\n",
        "print(f\"Content from {old_file} copied to {new_file}\")\n",
        "\n",
        "# Optional: Read and print the content of the new file to verify\n",
        "with open(new_file, \"r\") as destination_file:\n",
        "  copied_content = destination_file.read()\n",
        "  print(\"\\nContent of the new file:\")\n",
        "  print(copied_content)"
      ],
      "metadata": {
        "colab": {
          "base_uri": "https://localhost:8080/"
        },
        "id": "n6R1y-k9zuCw",
        "outputId": "c5c1734b-e005-4873-fbed-17603e12c707"
      },
      "execution_count": null,
      "outputs": [
        {
          "output_type": "stream",
          "name": "stdout",
          "text": [
            "Content from /content/drive/MyDrive/info.txt copied to /content/drive/MyDrive/copy_info.txt\n",
            "\n",
            "Content of the new file:\n",
            "Name: Dr_Ch. Tariq Iqbal\n",
            " Age: 37\n",
            "I am a Lecturer.\n",
            "I am a Lecturer.\n",
            "I am a Lecturer.\n",
            "I am a Lecturer.\n",
            "I am a Lecturer.\n",
            "I am a Lecturer.\n",
            "I am a Lecturer.\n",
            "I am a Lecturer.\n",
            "I am a Lecturer.\n",
            "\n"
          ]
        }
      ]
    },
    {
      "cell_type": "markdown",
      "source": [
        "# Count Words in a File\n",
        "Q6:Create a Dart program that reads a file data.txt and counts how many words and lines it has,\n",
        "then prints the result."
      ],
      "metadata": {
        "id": "OTO6JOqQ4VGy"
      }
    },
    {
      "cell_type": "code",
      "metadata": {
        "colab": {
          "base_uri": "https://localhost:8080/"
        },
        "id": "587fa2a1",
        "outputId": "1b5374ca-b170-4e4f-ab75-ed501af6a299"
      },
      "source": [
        "file_data = \"/content/drive/MyDrive/data.txt\"\n",
        "with open(file_data,\"r\") as f:\n",
        "  content = f.read()\n",
        "  print(content)\n",
        "\n",
        "  lines = content.split('\\n')\n",
        "  line_count = len(lines)\n",
        "\n",
        "  words = content.split()\n",
        "  word_count = len(words)\n",
        "\n",
        "  print(f\"Number of lines: {line_count}\")\n",
        "  print(f\"Number of words: {word_count}\")"
      ],
      "execution_count": null,
      "outputs": [
        {
          "output_type": "stream",
          "name": "stdout",
          "text": [
            "welcome to the Dart file handling.\n",
            "End of File.\n",
            "\n",
            "Number of lines: 3\n",
            "Number of words: 9\n"
          ]
        }
      ]
    },
    {
      "cell_type": "markdown",
      "source": [
        "# Merge Two Files\n",
        "Q7:Write a Dart program that takes two files file1.txt and file2.txt and merges their contents\n",
        "into a third file called merged.txt."
      ],
      "metadata": {
        "id": "xXElEbKx81HL"
      }
    },
    {
      "cell_type": "code",
      "source": [
        "file1= \"/content/drive/MyDrive/file1.txt\"\n",
        "file2= \"/content/drive/MyDrive/file2.txt\"\n",
        "file3= \"/content/drive/MyDrive/file3.txt\"\n",
        "with open(file1,\"w\") as f1:\n",
        "  f1.write(\"This is file1.\\n\")\n",
        "with open(file2,\"w\") as f2:\n",
        "  f2.write(\"This is file2.\\n\")\n",
        "with open(file1,\"r\") as f1:\n",
        "    file1_content=f1.read()\n",
        "    print(file1_content)\n",
        "with open(file2,\"r\") as f2:\n",
        "    file2_content=f2.read()\n",
        "    print(file2_content)\n",
        "with open(file3,\"w\") as f3:\n",
        "  f3.write(file1_content)\n",
        "  f3.write(file2_content)\n",
        "with open(file3,\"r\") as f3:\n",
        "    merged_content=f3.read()\n",
        "    print(\"After marged file1 and file2 in file3:\\n\",merged_content)\n"
      ],
      "metadata": {
        "colab": {
          "base_uri": "https://localhost:8080/"
        },
        "id": "EH501HQ387p9",
        "outputId": "1fc8d1e6-0979-4c6d-8678-9d698070d943"
      },
      "execution_count": null,
      "outputs": [
        {
          "output_type": "stream",
          "name": "stdout",
          "text": [
            "This is file1.\n",
            "\n",
            "This is file2.\n",
            "\n",
            "After marged file1 and file2 in file3:\n",
            " This is file1.\n",
            "This is file2.\n",
            "\n"
          ]
        }
      ]
    }
  ]
}