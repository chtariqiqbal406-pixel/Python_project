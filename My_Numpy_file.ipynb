{
  "nbformat": 4,
  "nbformat_minor": 0,
  "metadata": {
    "colab": {
      "provenance": [],
      "authorship_tag": "ABX9TyOgDyiIUYJk50XyC8C/Hhox",
      "include_colab_link": true
    },
    "kernelspec": {
      "name": "python3",
      "display_name": "Python 3"
    },
    "language_info": {
      "name": "python"
    }
  },
  "cells": [
    {
      "cell_type": "markdown",
      "metadata": {
        "id": "view-in-github",
        "colab_type": "text"
      },
      "source": [
        "<a href=\"https://colab.research.google.com/github/chtariqiqbal406-pixel/Python_project/blob/main/My_Numpy_file.ipynb\" target=\"_parent\"><img src=\"https://colab.research.google.com/assets/colab-badge.svg\" alt=\"Open In Colab\"/></a>"
      ]
    },
    {
      "cell_type": "code",
      "execution_count": null,
      "metadata": {
        "colab": {
          "base_uri": "https://localhost:8080/"
        },
        "id": "b__qQXQenPKS",
        "outputId": "83e019d5-8f5d-43eb-c6be-101653b68de2"
      },
      "outputs": [
        {
          "output_type": "stream",
          "name": "stdout",
          "text": [
            "My 1st Array: [1 3 5 6 7 9]\n",
            "My 2nd Array: [2 5 3 6 8 1]\n",
            "Multiplication: [ 2 15 15 36 56  9]\n",
            "Addition: [ 3  8  8 12 15 10]\n",
            "Subtraction: [-1 -2  2  0 -1  8]\n",
            "Division: [0.5        0.6        1.66666667 1.         0.875      9.        ]\n",
            "Line Space: [ 1.   4.5  8.  11.5 15. ]\n"
          ]
        }
      ],
      "source": [
        "import numpy as tr\n",
        "ar_1=tr.array([1,3,5,6,7,9])\n",
        "ar_2=tr.array([2,5,3,6,8,1])\n",
        "print(\"My 1st Array:\",ar_1)\n",
        "print(\"My 2nd Array:\",ar_2)\n",
        "print(\"Multiplication:\",tr.multiply(ar_1,ar_2))\n",
        "print(\"Addition:\",tr.add(ar_1,ar_2))\n",
        "print(\"Subtraction:\",tr.subtract(ar_1,ar_2))\n",
        "print(\"Division:\",tr.divide(ar_1,ar_2))\n",
        "print(\"Line Space:\",tr.linspace(1,15,5))\n"
      ]
    },
    {
      "cell_type": "markdown",
      "source": [
        "1 Create a NumPy array from a Python list [1, 2, 3, 4, 5].\n",
        " Print the array and its type."
      ],
      "metadata": {
        "id": "DQmbSNxcyrGt"
      }
    },
    {
      "cell_type": "code",
      "source": [
        "import numpy as tt\n",
        "ar_1=tt.array([1,2,3,4,5])\n",
        "print(\"My Array:\",ar_1)\n",
        "print(\"Type:\",type(ar_1))"
      ],
      "metadata": {
        "colab": {
          "base_uri": "https://localhost:8080/"
        },
        "id": "wzfr9MzUyta_",
        "outputId": "c130f377-8aa4-4b31-dbdc-7aa5dbf517f2"
      },
      "execution_count": 2,
      "outputs": [
        {
          "output_type": "stream",
          "name": "stdout",
          "text": [
            "My Array: [1 2 3 4 5]\n",
            "Type: <class 'numpy.ndarray'>\n"
          ]
        }
      ]
    },
    {
      "cell_type": "markdown",
      "source": [
        "2 Use np.arange() to create a 1D array of numbers from 10 to 50.\n",
        " Print the shape and size of the array."
      ],
      "metadata": {
        "id": "9s5t3ohuzIOA"
      }
    },
    {
      "cell_type": "code",
      "source": [
        "arrange=tt.arange(10,50)\n",
        "print(\"My Array:\",arrange)"
      ],
      "metadata": {
        "colab": {
          "base_uri": "https://localhost:8080/"
        },
        "id": "RCYTZEBlzLSr",
        "outputId": "c44bc878-dfaa-4914-8293-20401179fe40"
      },
      "execution_count": null,
      "outputs": [
        {
          "output_type": "stream",
          "name": "stdout",
          "text": [
            "My Array: [10 11 12 13 14 15 16 17 18 19 20 21 22 23 24 25 26 27 28 29 30 31 32 33\n",
            " 34 35 36 37 38 39 40 41 42 43 44 45 46 47 48 49]\n"
          ]
        }
      ]
    },
    {
      "cell_type": "markdown",
      "source": [
        "3 Create a 2D NumPy array of shape (3, 4) filled with zeros using np.zeros().\n",
        " Convert all zeros into fives."
      ],
      "metadata": {
        "id": "b6SxbhxoQZsT"
      }
    },
    {
      "cell_type": "code",
      "source": [
        "ar_2d=tt.array([[2,3,4,5],[6,7,8,9],[4,7,1,3]])\n",
        "print(\"2D Ayyar:\\n\" ,ar_2d)\n",
        "print(\"Shape:\",ar_2d.shape)\n",
        "print(\"Size:\",ar_2d.size)\n",
        "print('Data type:', ar_2d.dtype)\n",
        "print(\"Demention number\",ar_2d.ndim)\n",
        "print(f\"Zero arry:\\n{(tt.zeros((3,4)))}\")\n",
        "print(\"after conversion into 5:\\n\",tt.zeros((3,4))+5)"
      ],
      "metadata": {
        "colab": {
          "base_uri": "https://localhost:8080/"
        },
        "id": "XR8M--yRQcWr",
        "outputId": "cba18ad7-f8db-4a58-d68e-ce581e96af8b"
      },
      "execution_count": null,
      "outputs": [
        {
          "output_type": "stream",
          "name": "stdout",
          "text": [
            "2D Ayyar:\n",
            " [[2 3 4 5]\n",
            " [6 7 8 9]\n",
            " [4 7 1 3]]\n",
            "Shape: (3, 4)\n",
            "Size: 12\n",
            "Data type: int64\n",
            "Demention number 2\n",
            "Zero arry:\n",
            "[[0. 0. 0. 0.]\n",
            " [0. 0. 0. 0.]\n",
            " [0. 0. 0. 0.]]\n",
            "after conversion into 5:\n",
            " [[5. 5. 5. 5.]\n",
            " [5. 5. 5. 5.]\n",
            " [5. 5. 5. 5.]]\n"
          ]
        }
      ]
    },
    {
      "cell_type": "markdown",
      "source": [
        "4 Generate a 1D array of 15 random integers between 1 and 100 using np.random.randint().\n",
        " Find the maximum, minimum, and mean values."
      ],
      "metadata": {
        "id": "LutrxNC_eBxI"
      }
    },
    {
      "cell_type": "code",
      "source": [
        "array=tt.random.randint(1,100,15)\n",
        "print(\"My Array:\",array)\n",
        "print(\"Maximum:\",array.max())\n",
        "print(\"Minimum:\",array.min())\n",
        "print(\"Mean:\",array.mean())\n",
        "print(\"Variance:\",array.var())\n",
        "print(\"SD:\",array.std())\n"
      ],
      "metadata": {
        "colab": {
          "base_uri": "https://localhost:8080/"
        },
        "id": "IcbNXK1JeI9y",
        "outputId": "f1567182-3454-4454-e944-f3da1ee096d7"
      },
      "execution_count": null,
      "outputs": [
        {
          "output_type": "stream",
          "name": "stdout",
          "text": [
            "My Array: [ 3 13 74 30 26 61 29 26 72 31 19 17 69 96 70]\n",
            "Maximum: 96\n",
            "Minimum: 3\n",
            "Mean: 42.4\n",
            "Variance: 744.9066666666666\n",
            "SD: 27.292978339980902\n"
          ]
        }
      ]
    },
    {
      "cell_type": "markdown",
      "source": [
        "5 Create a NumPy array of numbers from 1 to 20.\n",
        " Extract only the even numbers using slicing or boolean indexing.\n",
        " Reverse the array using slicing."
      ],
      "metadata": {
        "id": "9A_sDdJvqb7Z"
      }
    },
    {
      "cell_type": "code",
      "source": [
        " Ary=tt.arange(1,21)\n",
        " print(\"Array:\",Ary)\n",
        " print(\"Even Number:\",Ary[1::2])\n",
        " print(\"Reverse:\",Ary[::-1])\n"
      ],
      "metadata": {
        "colab": {
          "base_uri": "https://localhost:8080/"
        },
        "id": "-y_qo9Y8qdBx",
        "outputId": "eb942a60-7c9c-4174-e602-6c4a1eb4ce00"
      },
      "execution_count": null,
      "outputs": [
        {
          "output_type": "stream",
          "name": "stdout",
          "text": [
            "Array: [ 1  2  3  4  5  6  7  8  9 10 11 12 13 14 15 16 17 18 19 20]\n",
            "Even Number: [ 2  4  6  8 10 12 14 16 18 20]\n",
            "Reverse: [20 19 18 17 16 15 14 13 12 11 10  9  8  7  6  5  4  3  2  1]\n"
          ]
        }
      ]
    },
    {
      "cell_type": "markdown",
      "source": [
        "6 Create a NumPy array [10, 20, 30, 40, 50].\n",
        " Print the first element\n",
        " Print the last element"
      ],
      "metadata": {
        "id": "VYkwJVeJKCNw"
      }
    },
    {
      "cell_type": "code",
      "source": [
        "arry=tt.array([10,20,30,40,50])\n",
        "print(\"Array:\",arry)\n",
        "print('First Element:',tt.array([arry[0]]))\n",
        "print('Last Element:',tt.array([arry[-1]]))"
      ],
      "metadata": {
        "colab": {
          "base_uri": "https://localhost:8080/"
        },
        "id": "nJ0bTH2zKHaP",
        "outputId": "217c70d3-ec2b-42d6-9b3f-a51cdb17176a"
      },
      "execution_count": null,
      "outputs": [
        {
          "output_type": "stream",
          "name": "stdout",
          "text": [
            "Array: [10 20 30 40 50]\n",
            "First Element: [10]\n",
            "Last Element: [50]\n"
          ]
        }
      ]
    },
    {
      "cell_type": "markdown",
      "source": [
        "7 Make a 2D array of shape (4, 4) with numbers from 1 to 16.\n",
        " Extract the first two rows and last two columns.\n",
        " Replace the diagonal elements with 0."
      ],
      "metadata": {
        "id": "gtbWcaDqMLkR"
      }
    },
    {
      "cell_type": "code",
      "source": [
        "arry=tt.array([[2,3,4,6],[6,7,8,9],[9,10,11,12],[12,13,14,15]])\n",
        "print(f\"Array 4*4,\\n{arry}\")\n",
        "print()\n",
        "print(\"Matrix 1st 2 rows and last 2 column \\n\",arry[:2, 2:])\n",
        "print()\n",
        "tt.fill_diagonal(arry,0)\n",
        "print(arry)"
      ],
      "metadata": {
        "colab": {
          "base_uri": "https://localhost:8080/"
        },
        "id": "fQthwF0dMkBg",
        "outputId": "3616b759-406b-4ed4-9030-814f48555f21"
      },
      "execution_count": 3,
      "outputs": [
        {
          "output_type": "stream",
          "name": "stdout",
          "text": [
            "Array 4*4,\n",
            "[[ 2  3  4  6]\n",
            " [ 6  7  8  9]\n",
            " [ 9 10 11 12]\n",
            " [12 13 14 15]]\n",
            "\n",
            "Matrix 1st 2 rows and last 2 column \n",
            " [[4 6]\n",
            " [8 9]]\n",
            "\n",
            "[[ 0  3  4  6]\n",
            " [ 6  0  8  9]\n",
            " [ 9 10  0 12]\n",
            " [12 13 14  0]]\n"
          ]
        }
      ]
    },
    {
      "cell_type": "markdown",
      "source": [
        "8 Create an array of 25 random integers between 1 and 100.\n",
        " Sort the array using np.sort()."
      ],
      "metadata": {
        "id": "sdq7aYJVYFTo"
      }
    },
    {
      "cell_type": "code",
      "source": [
        "arry=tt.random.randint(1,100,25)\n",
        "print(\"Array:\",arry)\n",
        "print(\"Sorted Array:\",tt.sort(arry))"
      ],
      "metadata": {
        "colab": {
          "base_uri": "https://localhost:8080/"
        },
        "id": "EQ0aEEAYYGe6",
        "outputId": "c5f1aef9-e567-4f11-8f14-927dd4b37271"
      },
      "execution_count": 4,
      "outputs": [
        {
          "output_type": "stream",
          "name": "stdout",
          "text": [
            "Array: [24 30 64 70 15 67 35 17  7 33 94 31 48 51 23 88 68 17 59 19 35 76 87 92\n",
            " 55]\n",
            "Sorted Array: [ 7 15 17 17 19 23 24 30 31 33 35 35 48 51 55 59 64 67 68 70 76 87 88 92\n",
            " 94]\n"
          ]
        }
      ]
    },
    {
      "cell_type": "markdown",
      "source": [
        "9 Create a 1D array of numbers from 1 to 10 and find:\n",
        " Maximum (np.max())\n",
        " Minimum (np.min())\n",
        " Sum (np.sum())"
      ],
      "metadata": {
        "id": "P7fj8JkAYg30"
      }
    },
    {
      "cell_type": "code",
      "source": [
        "arry=tt.arange(1,11)\n",
        "print(\"Array:\",arry)\n",
        "print(\"Maximum:\",arry.max())\n",
        "print(\"Minimum:\",arry.min())\n",
        "print(\"Sum:\",arry.sum())"
      ],
      "metadata": {
        "colab": {
          "base_uri": "https://localhost:8080/"
        },
        "id": "z19U0JbBYiwf",
        "outputId": "08307b39-a043-43b6-8257-dffb29878109"
      },
      "execution_count": 5,
      "outputs": [
        {
          "output_type": "stream",
          "name": "stdout",
          "text": [
            "Array: [ 1  2  3  4  5  6  7  8  9 10]\n",
            "Maximum: 10\n",
            "Minimum: 1\n",
            "Sum: 55\n"
          ]
        }
      ]
    },
    {
      "cell_type": "markdown",
      "source": [
        "10Reshape a 1D array of 36 elements into a 2D array of shape (6, 6).\n",
        " Find the sum of each row and each column using np.sum() with axis."
      ],
      "metadata": {
        "id": "k9RxLaFWYu8M"
      }
    },
    {
      "cell_type": "code",
      "source": [
        "arry=tt.arange(1,37)\n",
        "print(\"Array:\",arry)\n",
        "print()\n",
        "reshaped_arry = arry.reshape(6,6)\n",
        "print(\"Reshape:\\n\",reshaped_arry)\n",
        "print()\n",
        "print(\"Sum of each row:\\n\",tt.sum(reshaped_arry,axis=1))\n",
        "print()\n",
        "print(\"Sum of each column:\\n\",tt.sum(reshaped_arry,axis=0))"
      ],
      "metadata": {
        "colab": {
          "base_uri": "https://localhost:8080/"
        },
        "id": "4177HDeDYzSx",
        "outputId": "dd9d725b-d8ad-4ed4-e431-5f49561c0fa6"
      },
      "execution_count": 10,
      "outputs": [
        {
          "output_type": "stream",
          "name": "stdout",
          "text": [
            "Array: [ 1  2  3  4  5  6  7  8  9 10 11 12 13 14 15 16 17 18 19 20 21 22 23 24\n",
            " 25 26 27 28 29 30 31 32 33 34 35 36]\n",
            "\n",
            "Reshape:\n",
            " [[ 1  2  3  4  5  6]\n",
            " [ 7  8  9 10 11 12]\n",
            " [13 14 15 16 17 18]\n",
            " [19 20 21 22 23 24]\n",
            " [25 26 27 28 29 30]\n",
            " [31 32 33 34 35 36]]\n",
            "\n",
            "Sum of each row:\n",
            " [ 21  57  93 129 165 201]\n",
            "\n",
            "Sum of each column:\n",
            " [ 96 102 108 114 120 126]\n"
          ]
        }
      ]
    }
  ]
}