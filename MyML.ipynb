{
  "nbformat": 4,
  "nbformat_minor": 0,
  "metadata": {
    "colab": {
      "provenance": [],
      "authorship_tag": "ABX9TyPllltps2Zmfy3l8K/VzZUG",
      "include_colab_link": true
    },
    "kernelspec": {
      "name": "python3",
      "display_name": "Python 3"
    },
    "language_info": {
      "name": "python"
    }
  },
  "cells": [
    {
      "cell_type": "markdown",
      "metadata": {
        "id": "view-in-github",
        "colab_type": "text"
      },
      "source": [
        "<a href=\"https://colab.research.google.com/github/chtariqiqbal406-pixel/Python_project/blob/main/MyML.ipynb\" target=\"_parent\"><img src=\"https://colab.research.google.com/assets/colab-badge.svg\" alt=\"Open In Colab\"/></a>"
      ]
    },
    {
      "cell_type": "code",
      "execution_count": null,
      "metadata": {
        "id": "Jjazf0msA916"
      },
      "outputs": [],
      "source": [
        "import numpy as np\n",
        "import pandas as pd\n",
        "import matplotlib.pyplot as plt\n",
        "from sklearn.linear_model import LinearRegression\n",
        "from sklearn.model_selection import train_test_split\n",
        "from sklearn.metrics import mean_absolute_error, mean_squared_error\n",
        "\n",
        "data = {\"Study_Hours\": [2, 3, 4, 5, 6, 7, 8, 3, 5, 6, 7, 8, 9, 10, 12],\n",
        "    \"Sleep_Hours\": [7, 6.5, 6, 5.5, 5, 5, 4.5, 7, 6, 5.5, 5, 4.5, 4, 4, 3.5],\n",
        "    \"Attendance\": [60, 65, 68, 72, 75, 78, 80, 62, 70, 74, 76, 79, 82, 85, 90],\n",
        "    \"Exam_Score\": [50, 55, 60, 65, 70, 72, 75, 58, 67, 72, 74, 78, 82, 85, 90]}\n",
        "df = pd.DataFrame(data)\n",
        "\n",
        "x=df[[\"Study_Hours\",\"Sleep_Hours\",\"Attendance\"]]\n",
        "y=df[\"Exam_Score\"]\n",
        "x_train,x_test,y_train,y_test=train_test_split(x,y,test_size=0.2,random_state=42)\n",
        "model=LinearRegression()\n",
        "model.fit(x_train,y_train)\n",
        "\n",
        "y_pred=model.predict(x_test)\n",
        "mae=mean_absolute_error(y_test,y_pred)\n",
        "mse=mean_squared_error(y_test,y_pred)\n",
        "rms=np.sqrt(mse)\n",
        "print(\"Mean Absolute Error:\",mae)\n",
        "print(\"Mean Squared Error:\",mse)\n",
        "print(\"Root Mean Squared Error:\",rms)\n",
        "\n",
        "plt.scatter(y_test,y_pred)\n",
        "plt.plot([min(y_test),max(y_test)],[min(y_test),max(y_test)],color=\"red\")\n",
        "plt.xlabel(\"Actual Exam Scores\")\n",
        "plt.ylabel(\"Predicted Exam Scores\")\n",
        "plt.title(\"Actual vs Predicted Exam Scores\")\n",
        "plt.legend()\n",
        "plt.show()"
      ]
    }
  ]
}